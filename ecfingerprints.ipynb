{
  "nbformat": 4,
  "nbformat_minor": 0,
  "metadata": {
    "colab": {
      "provenance": [],
      "toc_visible": true
    },
    "kernelspec": {
      "name": "python3",
      "display_name": "Python 3"
    },
    "language_info": {
      "name": "python"
    }
  },
  "cells": [
    {
      "cell_type": "markdown",
      "source": [
        "# Installs"
      ],
      "metadata": {
        "id": "M2Mw7yOzo11A"
      }
    },
    {
      "cell_type": "code",
      "execution_count": null,
      "metadata": {
        "colab": {
          "base_uri": "https://localhost:8080/"
        },
        "id": "B94kMhqncZKO",
        "outputId": "ab8affb0-4e38-4264-9f5c-f25309bcebdb"
      },
      "outputs": [
        {
          "output_type": "stream",
          "name": "stdout",
          "text": [
            "Collecting rdkit\n",
            "  Downloading rdkit-2023.9.5-cp310-cp310-manylinux_2_17_x86_64.manylinux2014_x86_64.whl (34.4 MB)\n",
            "\u001b[2K     \u001b[90m━━━━━━━━━━━━━━━━━━━━━━━━━━━━━━━━━━━━━━━━\u001b[0m \u001b[32m34.4/34.4 MB\u001b[0m \u001b[31m24.9 MB/s\u001b[0m eta \u001b[36m0:00:00\u001b[0m\n",
            "\u001b[?25hCollecting bitarray\n",
            "  Downloading bitarray-2.9.2-cp310-cp310-manylinux_2_17_x86_64.manylinux2014_x86_64.whl (288 kB)\n",
            "\u001b[2K     \u001b[90m━━━━━━━━━━━━━━━━━━━━━━━━━━━━━━━━━━━━━━━━\u001b[0m \u001b[32m288.3/288.3 kB\u001b[0m \u001b[31m12.0 MB/s\u001b[0m eta \u001b[36m0:00:00\u001b[0m\n",
            "\u001b[?25hRequirement already satisfied: numpy in /usr/local/lib/python3.10/dist-packages (from rdkit) (1.25.2)\n",
            "Requirement already satisfied: Pillow in /usr/local/lib/python3.10/dist-packages (from rdkit) (9.4.0)\n",
            "Installing collected packages: bitarray, rdkit\n",
            "Successfully installed bitarray-2.9.2 rdkit-2023.9.5\n"
          ]
        }
      ],
      "source": [
        "!pip install rdkit bitarray"
      ]
    },
    {
      "cell_type": "markdown",
      "source": [
        "# Imports"
      ],
      "metadata": {
        "id": "yFaCuEUjoyk8"
      }
    },
    {
      "cell_type": "code",
      "source": [
        "from rdkit import Chem\n",
        "import hashlib\n",
        "from bitarray import bitarray"
      ],
      "metadata": {
        "id": "g67NPRyEowFk"
      },
      "execution_count": null,
      "outputs": []
    },
    {
      "cell_type": "markdown",
      "source": [
        "# Simplified ECFP Algorithm Implementation"
      ],
      "metadata": {
        "id": "tQCUHq5vpRxW"
      }
    },
    {
      "cell_type": "markdown",
      "source": [
        "A simplified implementation of the ECFP algorithm, it only includes the core principles of ECFP and it does not include:\n",
        "\n",
        "*   Heavy neighbor atom invariant calculation\n",
        "*   Duplicate structure removal"
      ],
      "metadata": {
        "id": "G_DIlCQApZVy"
      }
    },
    {
      "cell_type": "code",
      "source": [
        "# Helper function to flatten a list of tuples\n",
        "def flatten(lst):\n",
        "    return [item for sublist in lst for item in sublist]"
      ],
      "metadata": {
        "id": "gN8NfwGtTfvk"
      },
      "execution_count": null,
      "outputs": []
    },
    {
      "cell_type": "code",
      "source": [
        "def atom_invariant(atom):\n",
        "    \"\"\"\n",
        "    Generates a hash of atom invariants, capturing detailed properties of each atom.\n",
        "    These properties help in uniquely identifying atoms based on their chemical environment.\n",
        "    The hash of these properties serves as a compact identifier for the atom.\n",
        "    (Note: does not include all properties covered in ECFP)\n",
        "\n",
        "    Parameters:\n",
        "    - atom: An RDKit Atom object.\n",
        "\n",
        "    Returns:\n",
        "    - A hash of a tuple containing atom properties including atomic number, total degree (bonds count including hydrogens),\n",
        "      total number of hydrogens, explicit valence, atomic mass, formal charge, and ring membership.\n",
        "    \"\"\"\n",
        "    properties = (\n",
        "        atom.GetAtomicNum(),  # Atomic number, identifies the element type.\n",
        "        atom.GetNumImplicitHs() + atom.GetNumExplicitHs(), # Number of attached hydrogens (both implicit and explicit)\n",
        "        atom.GetExplicitValence(), # Explicit valence\n",
        "        atom.GetMass(), # Atomic mass\n",
        "        atom.GetFormalCharge(),  # Atom's formal charge.\n",
        "        atom.IsInRing()  # Boolean indicating if the atom is part of a ring structure.\n",
        "    )\n",
        "    # Return the hash of the properties tuple\n",
        "    return hash(properties)"
      ],
      "metadata": {
        "id": "Kgciqncap-3I"
      },
      "execution_count": null,
      "outputs": []
    },
    {
      "cell_type": "code",
      "source": [
        "def get_neighborhood_hash(mol, atom_idx, iteration, previous_neighborhoods, hash_to_bonds):\n",
        "    \"\"\"\n",
        "    Calculates a hash for the neighborhood of an atom at a given iteration depth,\n",
        "    and tracks the bonds involved in that neighborhood. The hash and bond tracking\n",
        "    are used to generate extended connectivity fingerprints (ECFPs).\n",
        "\n",
        "    This function iterates over the neighbors of the specified atom, collects\n",
        "    their properties and bond orders, and creates a hash representing the\n",
        "    neighborhood's substructure at the current iteration. Additionally, it\n",
        "    accumulates and updates the set of bonds involved for each unique neighborhood\n",
        "    hash seen across iterations, supporting substructure tracking within the molecule.\n",
        "\n",
        "    Parameters:\n",
        "    - mol (RDKit Mol): The molecule being analyzed.\n",
        "    - atom_idx (int): Index of the atom whose neighborhood hash is being calculated.\n",
        "    - iteration (int): The current iteration depth, controlling the \"radius\" of\n",
        "      the neighborhood being considered.\n",
        "    - previous_neighborhoods (set): A set of previously encountered neighborhood\n",
        "      hashes to avoid duplications.\n",
        "    - hash_to_bonds (dict): A dictionary mapping unique neighborhood hashes to sets\n",
        "      of bonds (as frozensets of atom indices and bond types) included in each\n",
        "      neighborhood.\n",
        "\n",
        "    Returns:\n",
        "    - (tuple or None, set): A tuple containing the new neighborhood hash (or None\n",
        "      if the neighborhood hash is not new) and the updated set of bonds for the\n",
        "      current neighborhood. If the neighborhood hash is not new, it returns None\n",
        "      instead of the hash to indicate that this particular neighborhood structure\n",
        "      has been previously encountered.\n",
        "    \"\"\"\n",
        "\n",
        "    ### STEP 1 - GET NEIGHBORHOOD HASH ###\n",
        "    atom = mol.GetAtomWithIdx(atom_idx)\n",
        "    # Start with a list containing the iteration number and the core atom's hash\n",
        "    neighborhood = [(iteration, atom_invariant(atom))]\n",
        "    bond_order_neighbor_pairs = []\n",
        "\n",
        "    # Loop through neighbors and collect each neighbors bond order and hash\n",
        "    for nbr in atom.GetNeighbors():\n",
        "        bond = mol.GetBondBetweenAtoms(atom_idx, nbr.GetIdx())\n",
        "        bond_order = bond.GetBondTypeAsDouble()\n",
        "        neighbor_hash = atom_invariant(nbr)\n",
        "        bond_order_neighbor_pairs.append((bond_order, neighbor_hash))\n",
        "\n",
        "    # Sort the neighbor pairs by bond order, then by neighbor hash\n",
        "    bond_order_neighbor_pairs.sort()\n",
        "\n",
        "    # Extend the neighborhood list with the sorted neighbor information\n",
        "    for pair in bond_order_neighbor_pairs:\n",
        "        neighborhood.append(pair)\n",
        "\n",
        "    # Flatten the list and convert to a tuple for hashing\n",
        "    neighborhood_tuple = tuple(flatten(neighborhood))\n",
        "\n",
        "    neighborhood_hash = hash(neighborhood_tuple)\n",
        "\n",
        "    # Check if the neighborhood hash is new before adding it to previous_neighborhoods\n",
        "    is_new_hash = neighborhood_hash not in previous_neighborhoods\n",
        "\n",
        "    ### STEP 2 - BOND TRACKING ###\n",
        "    # Initialize an empty set to accumulate bonds for the current neighborhood hash.\n",
        "    accumulated_bonds = set()\n",
        "\n",
        "    # Accumulate all bonds associated with the core atom and its neighbors from the previous iteration\n",
        "    if iteration > 0:\n",
        "        for prev_hash, prev_bonds in hash_to_bonds.items():\n",
        "            if any(atom_idx in bond_atoms for bond_atoms, bond_type, iter_num in prev_bonds if iter_num == iteration - 1):\n",
        "                accumulated_bonds.update({(bond_atoms, bond_type, iter_num) for bond_atoms, bond_type, iter_num in prev_bonds if iter_num == iteration - 1})\n",
        "\n",
        "    # Collect bonds for tracking, using frozenset for non-directionality (in the context of molecular graphs, a bond between\n",
        "    # atom 0 and atom 1 is the same as a bond between atom 1 and atom 0)\n",
        "    # Each element of the bonds set is a tuple where the first element is a frozenset identifying the bond by the indices of the atoms\n",
        "    # involved, and the second element is the bond type represented as a double. This allows tracking both the connectivity\n",
        "    # and the type of each bond.\n",
        "    for nbr in atom.GetNeighbors():\n",
        "        bond = mol.GetBondBetweenAtoms(atom_idx, nbr.GetIdx())\n",
        "        accumulated_bonds.add((frozenset({atom_idx, nbr.GetIdx()}), bond.GetBondTypeAsDouble(), iteration))\n",
        "\n",
        "    ### STEP 3 - UPDATE AND RETURN ###\n",
        "\n",
        "    # Updating ID set and initial collection of bonds for this neighborhood, if it's a new hash\n",
        "    # Decide on what to return based on whether the neighborhood_hash is new\n",
        "    if is_new_hash:\n",
        "        # Add hash to the unique set of IDs passed in during the ecfp call\n",
        "        previous_neighborhoods.add(neighborhood_hash)\n",
        "        hash_to_bonds[neighborhood_hash] = accumulated_bonds\n",
        "        return neighborhood_hash, accumulated_bonds\n",
        "    else:\n",
        "        # Update the existing entry with newly accumulated bonds\n",
        "        hash_to_bonds[neighborhood_hash].update(accumulated_bonds)\n",
        "        return None, accumulated_bonds"
      ],
      "metadata": {
        "id": "aZSQ-9SaKilw"
      },
      "execution_count": null,
      "outputs": []
    },
    {
      "cell_type": "code",
      "source": [
        "def ecfp(mol, radius=2):\n",
        "    \"\"\"\n",
        "    Computes the Extended Connectivity Fingerprint (ECFP) for a given molecule, starting with iteration 0\n",
        "    for just the atom identifiers, then expanding in further iterations. Additionally, collects all unique\n",
        "    identifiers generated throughout the iterations.\n",
        "\n",
        "    Parameters:\n",
        "    - mol: An RDKit Molecule object.\n",
        "    - radius: The radius of neighborhoods to consider, corresponding to the iteration count.\n",
        "\n",
        "    Returns:\n",
        "    - A bitarray representing the ECFP of the molecule.\n",
        "    - A list of all unique identifiers generated through all iterations.\n",
        "    - A set of \"tracked bonds and substructures\"\n",
        "    \"\"\"\n",
        "    fp_length = 2048  # Length of the fingerprint bitarray.\n",
        "    fingerprint = bitarray(fp_length)\n",
        "    fingerprint.setall(0)\n",
        "\n",
        "    all_unique_identifiers = set()  # Set to keep track of all unique identifiers generated\n",
        "\n",
        "    hash_to_bonds = {}  # Dictionary to map unique hashes to their bonds\n",
        "\n",
        "    for iteration in range(0, radius + 1):\n",
        "        for atom_idx in range(mol.GetNumAtoms()):\n",
        "            if iteration == 0:\n",
        "                # Directly use atom_invariant as the unique identifier without neighbor info\n",
        "                atom_hash = atom_invariant(mol.GetAtomWithIdx(atom_idx))\n",
        "                # Add to the set of unique identifiers\n",
        "                all_unique_identifiers.add(atom_hash)\n",
        "                # Map the atom's hash to a position in the fingerprint and set the bit\n",
        "                bit_pos = int(hashlib.sha256(str(atom_hash).encode('utf-8')).hexdigest(), 16) % fp_length\n",
        "                fingerprint[bit_pos] = 1\n",
        "            else:\n",
        "                # Include neighbor information in subsequent iterations\n",
        "                neighborhood_hash, bonds = get_neighborhood_hash(mol, atom_idx, iteration, all_unique_identifiers, hash_to_bonds)\n",
        "                # print(neighborhood_hash)\n",
        "                if neighborhood_hash is not None:\n",
        "                    # Add to the set of unique identifiers\n",
        "                    all_unique_identifiers.add(neighborhood_hash)\n",
        "                    # Store the bonds for this unique hash\n",
        "                    hash_to_bonds[neighborhood_hash] = bonds\n",
        "                    # Map the hash to a position in the fingerprint and set the bit\n",
        "                    bit_pos = int(hashlib.sha256(str(neighborhood_hash).encode('utf-8')).hexdigest(), 16) % fp_length\n",
        "                    fingerprint[bit_pos] = 1\n",
        "\n",
        "    # Convert the set of all unique identifiers to a list\n",
        "    unique_identifiers_list = list(all_unique_identifiers)\n",
        "\n",
        "    return fingerprint, unique_identifiers_list, hash_to_bonds"
      ],
      "metadata": {
        "id": "izXow28mdd8f"
      },
      "execution_count": null,
      "outputs": []
    },
    {
      "cell_type": "code",
      "source": [
        "# Example using butyramide\n",
        "smiles = 'CCCC(=O)N'\n",
        "mol = Chem.MolFromSmiles(smiles)"
      ],
      "metadata": {
        "id": "C6BDx11s60PS"
      },
      "execution_count": null,
      "outputs": []
    },
    {
      "cell_type": "code",
      "source": [
        "for i, atom in enumerate(mol.GetAtoms()):\n",
        "    atom.SetProp(\"molAtomMapNumber\", str(atom.GetIdx()))\n",
        "\n",
        "mol"
      ],
      "metadata": {
        "colab": {
          "base_uri": "https://localhost:8080/",
          "height": 167
        },
        "id": "aA7OlQZhMgMx",
        "outputId": "39c3daa5-261f-4738-d0a9-db8656a5fc2b"
      },
      "execution_count": null,
      "outputs": [
        {
          "output_type": "execute_result",
          "data": {
            "text/plain": [
              "<rdkit.Chem.rdchem.Mol at 0x7839a8b3d070>"
            ],
            "image/png": "[encoded data removed]"
          },
          "metadata": {},
          "execution_count": 75
        }
      ]
    },
    {
      "cell_type": "code",
      "source": [
        "fingerprint, ids, bond_tracking = ecfp(mol, radius=3)"
      ],
      "metadata": {
        "id": "vs7xBr847URi"
      },
      "execution_count": null,
      "outputs": []
    },
    {
      "cell_type": "code",
      "source": [
        "fingerprint.count(True)"
      ],
      "metadata": {
        "colab": {
          "base_uri": "https://localhost:8080/"
        },
        "id": "G52UoveK7W38",
        "outputId": "73e97239-ebd1-45fc-9e05-a73de55ba748"
      },
      "execution_count": null,
      "outputs": [
        {
          "output_type": "execute_result",
          "data": {
            "text/plain": [
              "23"
            ]
          },
          "metadata": {},
          "execution_count": 77
        }
      ]
    },
    {
      "cell_type": "code",
      "source": [
        "ids"
      ],
      "metadata": {
        "colab": {
          "base_uri": "https://localhost:8080/"
        },
        "id": "ylaRxFGo7ycN",
        "outputId": "eb299b6d-35b3-4fea-f183-5a54a0cc2863"
      },
      "execution_count": null,
      "outputs": [
        {
          "output_type": "execute_result",
          "data": {
            "text/plain": [
              "[-3142884425696203389,\n",
              " -1121946347898195580,\n",
              " 111745456641953158,\n",
              " 6840591145590741013,\n",
              " 2493798636631523240,\n",
              " 3880773608838887209,\n",
              " 2825146501274315050,\n",
              " 5265173628904811564,\n",
              " 8266629056374881708,\n",
              " 553546502487514672,\n",
              " 6153815791553408174,\n",
              " 699118068866822964,\n",
              " -2639042515101471426,\n",
              " 3529725126632241089,\n",
              " -2849386149984538425,\n",
              " -1974585728107678129,\n",
              " 932545384902316631,\n",
              " -1407193365571786532,\n",
              " -729676255114090913,\n",
              " -7393798148930274194,\n",
              " -6939244301963675531,\n",
              " 18844545212354163,\n",
              " 6233139277601181429]"
            ]
          },
          "metadata": {},
          "execution_count": 78
        }
      ]
    },
    {
      "cell_type": "code",
      "source": [
        "len(bond_tracking)"
      ],
      "metadata": {
        "colab": {
          "base_uri": "https://localhost:8080/"
        },
        "id": "6Pxj7dvG7zVM",
        "outputId": "048d011b-33ba-4314-e44a-b95d9fc1446a"
      },
      "execution_count": null,
      "outputs": [
        {
          "output_type": "execute_result",
          "data": {
            "text/plain": [
              "18"
            ]
          },
          "metadata": {},
          "execution_count": 40
        }
      ]
    },
    {
      "cell_type": "code",
      "source": [
        "bond_tracking"
      ],
      "metadata": {
        "colab": {
          "base_uri": "https://localhost:8080/"
        },
        "id": "-LlW0MNV7021",
        "outputId": "5920f050-e91e-4104-af99-ee1de3f96255"
      },
      "execution_count": null,
      "outputs": [
        {
          "output_type": "execute_result",
          "data": {
            "text/plain": [
              "{-1407193365571786532: {(frozenset({0, 1}), 1.0, 1)},\n",
              " 932545384902316631: {(frozenset({1, 2}), 1.0, 1),\n",
              "  (frozenset({0, 1}), 1.0, 1)},\n",
              " 2825146501274315050: {(frozenset({2, 3}), 1.0, 1),\n",
              "  (frozenset({1, 2}), 1.0, 1)},\n",
              " -2849386149984538425: {(frozenset({2, 3}), 1.0, 1),\n",
              "  (frozenset({3, 4}), 2.0, 1),\n",
              "  (frozenset({3, 5}), 1.0, 1)},\n",
              " 6840591145590741013: {(frozenset({3, 4}), 2.0, 1)},\n",
              " -2639042515101471426: {(frozenset({3, 5}), 1.0, 1)},\n",
              " 18844545212354163: {(frozenset({1, 2}), 1.0, 1),\n",
              "  (frozenset({0, 1}), 1.0, 1),\n",
              "  (frozenset({0, 1}), 1.0, 2)},\n",
              " 5265173628904811564: {(frozenset({1, 2}), 1.0, 1),\n",
              "  (frozenset({0, 1}), 1.0, 1),\n",
              "  (frozenset({1, 2}), 1.0, 2),\n",
              "  (frozenset({2, 3}), 1.0, 1),\n",
              "  (frozenset({0, 1}), 1.0, 2)},\n",
              " 111745456641953158: {(frozenset({3, 4}), 2.0, 1),\n",
              "  (frozenset({3, 5}), 1.0, 1),\n",
              "  (frozenset({1, 2}), 1.0, 1),\n",
              "  (frozenset({0, 1}), 1.0, 1),\n",
              "  (frozenset({1, 2}), 1.0, 2),\n",
              "  (frozenset({2, 3}), 1.0, 1),\n",
              "  (frozenset({2, 3}), 1.0, 2)},\n",
              " -7393798148930274194: {(frozenset({3, 4}), 2.0, 1),\n",
              "  (frozenset({1, 2}), 1.0, 1),\n",
              "  (frozenset({0, 1}), 1.0, 1),\n",
              "  (frozenset({2, 3}), 1.0, 1),\n",
              "  (frozenset({3, 5}), 1.0, 1),\n",
              "  (frozenset({3, 5}), 1.0, 2),\n",
              "  (frozenset({3, 4}), 2.0, 2),\n",
              "  (frozenset({2, 3}), 1.0, 2)},\n",
              " 8266629056374881708: {(frozenset({3, 4}), 2.0, 1),\n",
              "  (frozenset({1, 2}), 1.0, 1),\n",
              "  (frozenset({0, 1}), 1.0, 1),\n",
              "  (frozenset({2, 3}), 1.0, 1),\n",
              "  (frozenset({3, 5}), 1.0, 1),\n",
              "  (frozenset({3, 4}), 2.0, 2)},\n",
              " 6233139277601181429: {(frozenset({3, 4}), 2.0, 1),\n",
              "  (frozenset({1, 2}), 1.0, 1),\n",
              "  (frozenset({0, 1}), 1.0, 1),\n",
              "  (frozenset({2, 3}), 1.0, 1),\n",
              "  (frozenset({3, 5}), 1.0, 1),\n",
              "  (frozenset({3, 5}), 1.0, 2)},\n",
              " 2493798636631523240: {(frozenset({1, 2}), 1.0, 2),\n",
              "  (frozenset({0, 1}), 1.0, 2),\n",
              "  (frozenset({0, 1}), 1.0, 3)},\n",
              " 699118068866822964: {(frozenset({0, 1}), 1.0, 3),\n",
              "  (frozenset({1, 2}), 1.0, 2),\n",
              "  (frozenset({1, 2}), 1.0, 3),\n",
              "  (frozenset({2, 3}), 1.0, 2),\n",
              "  (frozenset({0, 1}), 1.0, 2)},\n",
              " 3529725126632241089: {(frozenset({1, 2}), 1.0, 3),\n",
              "  (frozenset({2, 3}), 1.0, 3),\n",
              "  (frozenset({3, 4}), 2.0, 2),\n",
              "  (frozenset({1, 2}), 1.0, 2),\n",
              "  (frozenset({2, 3}), 1.0, 2),\n",
              "  (frozenset({3, 5}), 1.0, 2),\n",
              "  (frozenset({0, 1}), 1.0, 2)},\n",
              " -1121946347898195580: {(frozenset({3, 5}), 1.0, 2),\n",
              "  (frozenset({3, 5}), 1.0, 3),\n",
              "  (frozenset({3, 4}), 2.0, 2),\n",
              "  (frozenset({3, 4}), 2.0, 3),\n",
              "  (frozenset({2, 3}), 1.0, 3),\n",
              "  (frozenset({1, 2}), 1.0, 2),\n",
              "  (frozenset({2, 3}), 1.0, 2),\n",
              "  (frozenset({0, 1}), 1.0, 2)},\n",
              " -1974585728107678129: {(frozenset({3, 5}), 1.0, 2),\n",
              "  (frozenset({3, 4}), 2.0, 2),\n",
              "  (frozenset({3, 4}), 2.0, 3),\n",
              "  (frozenset({1, 2}), 1.0, 2),\n",
              "  (frozenset({2, 3}), 1.0, 2),\n",
              "  (frozenset({0, 1}), 1.0, 2)},\n",
              " 3880773608838887209: {(frozenset({3, 5}), 1.0, 2),\n",
              "  (frozenset({3, 5}), 1.0, 3),\n",
              "  (frozenset({3, 4}), 2.0, 2),\n",
              "  (frozenset({1, 2}), 1.0, 2),\n",
              "  (frozenset({2, 3}), 1.0, 2),\n",
              "  (frozenset({0, 1}), 1.0, 2)}}"
            ]
          },
          "metadata": {},
          "execution_count": 41
        }
      ]
    },
    {
      "cell_type": "code",
      "source": [
        "# Initialize a list to keep track of the reduced sets (each containing only the first two elements of the original tuples)\n",
        "# This is for inspecting unique sets based on the first two elements of the tuples: atoms and bonds (ignoring iteration)\n",
        "reduced_sets = []\n",
        "\n",
        "for bond_set in bond_tracking.values():\n",
        "    # Use a set comprehension to create a set of 2-element tuples from the 3-element tuples\n",
        "    reduced_set = {(frozenset(bond_atoms), bond_type) for bond_atoms, bond_type, _ in bond_set}\n",
        "    if reduced_set not in reduced_sets:\n",
        "        reduced_sets.append(reduced_set)"
      ],
      "metadata": {
        "id": "q0CLQUPPQUGD"
      },
      "execution_count": null,
      "outputs": []
    },
    {
      "cell_type": "code",
      "source": [
        "len(reduced_sets)"
      ],
      "metadata": {
        "colab": {
          "base_uri": "https://localhost:8080/"
        },
        "id": "HgLzl-rITlQn",
        "outputId": "0784f762-d488-488d-8986-fa14abe323a9"
      },
      "execution_count": null,
      "outputs": [
        {
          "output_type": "execute_result",
          "data": {
            "text/plain": [
              "8"
            ]
          },
          "metadata": {},
          "execution_count": 43
        }
      ]
    },
    {
      "cell_type": "code",
      "source": [
        "reduced_sets"
      ],
      "metadata": {
        "colab": {
          "base_uri": "https://localhost:8080/"
        },
        "id": "0Cso7eqvTmsc",
        "outputId": "d39fa6e3-23a1-4a19-9de8-7d4ace4499a1"
      },
      "execution_count": null,
      "outputs": [
        {
          "output_type": "execute_result",
          "data": {
            "text/plain": [
              "[{(frozenset({0, 1}), 1.0)},\n",
              " {(frozenset({0, 1}), 1.0), (frozenset({1, 2}), 1.0)},\n",
              " {(frozenset({1, 2}), 1.0), (frozenset({2, 3}), 1.0)},\n",
              " {(frozenset({3, 4}), 2.0),\n",
              "  (frozenset({3, 5}), 1.0),\n",
              "  (frozenset({2, 3}), 1.0)},\n",
              " {(frozenset({3, 4}), 2.0)},\n",
              " {(frozenset({3, 5}), 1.0)},\n",
              " {(frozenset({0, 1}), 1.0),\n",
              "  (frozenset({1, 2}), 1.0),\n",
              "  (frozenset({2, 3}), 1.0)},\n",
              " {(frozenset({2, 3}), 1.0),\n",
              "  (frozenset({3, 5}), 1.0),\n",
              "  (frozenset({0, 1}), 1.0),\n",
              "  (frozenset({1, 2}), 1.0),\n",
              "  (frozenset({3, 4}), 2.0)}]"
            ]
          },
          "metadata": {},
          "execution_count": 44
        }
      ]
    },
    {
      "cell_type": "code",
      "source": [],
      "metadata": {
        "id": "iZgI1ZNYUY6d"
      },
      "execution_count": null,
      "outputs": []
    },
    {
      "cell_type": "markdown",
      "source": [
        "# RDKit Implementation"
      ],
      "metadata": {
        "id": "DNKQV6IfUEz6"
      }
    },
    {
      "cell_type": "code",
      "source": [
        "from rdkit import Chem\n",
        "from rdkit.Chem import rdMolDescriptors, AllChem\n",
        "import numpy as np\n",
        "\n",
        "def ecfp_from_smiles(smiles, radius=3, nBits=2048):\n",
        "    mol = Chem.MolFromSmiles(smiles)\n",
        "    fp = rdMolDescriptors.GetMorganFingerprintAsBitVect(mol, radius, nBits=nBits)\n",
        "    # Convert the RDKit explicit bit vector to a Numpy array for easier use\n",
        "    np_fp = np.zeros((1,))\n",
        "    Chem.DataStructs.ConvertToNumpyArray(fp, np_fp)\n",
        "    return np_fp"
      ],
      "metadata": {
        "id": "ZQjRdajcUG_S"
      },
      "execution_count": null,
      "outputs": []
    },
    {
      "cell_type": "code",
      "source": [
        "smiles_string = 'CCCC(=O)N'\n",
        "fingerprint = ecfp_from_smiles(smiles_string)\n",
        "print(fingerprint)"
      ],
      "metadata": {
        "colab": {
          "base_uri": "https://localhost:8080/"
        },
        "id": "cBJEIP-iUKV7",
        "outputId": "96f51dbc-7d78-4f8c-99ac-33543372666d"
      },
      "execution_count": null,
      "outputs": [
        {
          "output_type": "stream",
          "name": "stdout",
          "text": [
            "[0. 0. 0. ... 0. 0. 0.]\n"
          ]
        }
      ]
    },
    {
      "cell_type": "code",
      "source": [
        "sum(fingerprint)"
      ],
      "metadata": {
        "colab": {
          "base_uri": "https://localhost:8080/"
        },
        "id": "01w1fDHnUSrm",
        "outputId": "2a17cc8b-8b6a-4b0c-976d-23474b0f1298"
      },
      "execution_count": null,
      "outputs": [
        {
          "output_type": "execute_result",
          "data": {
            "text/plain": [
              "14.0"
            ]
          },
          "metadata": {},
          "execution_count": 53
        }
      ]
    },
    {
      "cell_type": "markdown",
      "source": [
        "From RDKit Docs:\n",
        "\n",
        "\"The fingerprint generators can collect information about the atoms/bonds involved in setting bits when a fingerprint is generated. This information is quite useful for understanding which parts of a molecule were involved in each bit.\n",
        "\n",
        "Each fingerprinting method provides different information, but this is all accessed using the additionalOutput argument to the fingerprinting functions.\n",
        "\n",
        "Information is available about the atoms that contribute to particular bits in the Morgan fingerprint via the bit info map. This is a dictionary with one entry per bit set in the fingerprint, the keys are the bit ids, the values are lists of (atom index, radius) tuples.\"\n",
        "\n",
        "https://rdkit.org/docs/GettingStartedInPython.html#explaining-bits-from-morgan-fingerprints\n"
      ],
      "metadata": {
        "id": "A-A2ksgnVhg1"
      }
    },
    {
      "cell_type": "code",
      "source": [
        "m = Chem.MolFromSmiles('CCCC(=O)N')\n",
        "fpgen = AllChem.GetMorganGenerator(radius=3)\n",
        "ao = AllChem.AdditionalOutput()\n",
        "ao.CollectBitInfoMap()\n",
        "fp = fpgen.GetSparseCountFingerprint(m,additionalOutput=ao)\n",
        "print(len(fp.GetNonzeroElements()))\n",
        "info = ao.GetBitInfoMap()\n",
        "print(len(info))"
      ],
      "metadata": {
        "colab": {
          "base_uri": "https://localhost:8080/"
        },
        "id": "S9dNERMAUViA",
        "outputId": "0221460c-efe8-4777-fa74-1f9ac0047bf8"
      },
      "execution_count": null,
      "outputs": [
        {
          "output_type": "stream",
          "name": "stdout",
          "text": [
            "14\n",
            "14\n"
          ]
        }
      ]
    },
    {
      "cell_type": "code",
      "source": [
        "info"
      ],
      "metadata": {
        "colab": {
          "base_uri": "https://localhost:8080/"
        },
        "id": "ExfHTMQXVQDe",
        "outputId": "1caef724-d5d7-463c-de51-14f15aec0007"
      },
      "execution_count": null,
      "outputs": [
        {
          "output_type": "execute_result",
          "data": {
            "text/plain": [
              "{474023245: ((1, 2),),\n",
              " 847957139: ((5, 0),),\n",
              " 864942730: ((4, 0),),\n",
              " 1167322652: ((2, 1),),\n",
              " 1173125914: ((1, 1),),\n",
              " 1510328189: ((4, 1),),\n",
              " 2231929377: ((3, 2),),\n",
              " 2245384272: ((1, 0), (2, 0)),\n",
              " 2246699815: ((3, 0),),\n",
              " 2246728737: ((0, 0),),\n",
              " 2591432844: ((5, 1),),\n",
              " 3328145258: ((3, 1),),\n",
              " 3542456614: ((0, 1),),\n",
              " 4112692162: ((2, 2),)}"
            ]
          },
          "metadata": {},
          "execution_count": 57
        }
      ]
    },
    {
      "cell_type": "markdown",
      "source": [
        "Interpreting the above: bit 2245384272 is set twice: once by atom 1 and once by atom 2, each at radius 0. Bit 2591432844 is set once by atom 5 at radius 1.\n",
        "\n",
        "Focusing on bit 2591432844, we can extract the submolecule consisting of all atoms within a radius of 1 of atom 5:"
      ],
      "metadata": {
        "id": "03rGcK5LWEK3"
      }
    },
    {
      "cell_type": "code",
      "source": [
        "env = Chem.FindAtomEnvironmentOfRadiusN(m,1,5)\n",
        "amap={}\n",
        "submol=Chem.PathToSubmol(m,env,atomMap=amap)\n",
        "submol.GetNumAtoms()\n",
        "amap"
      ],
      "metadata": {
        "colab": {
          "base_uri": "https://localhost:8080/"
        },
        "id": "Rp6-b_tlVMlS",
        "outputId": "867749cd-b44f-4fe6-e01d-dd2558789972"
      },
      "execution_count": null,
      "outputs": [
        {
          "output_type": "execute_result",
          "data": {
            "text/plain": [
              "{3: 0, 5: 1}"
            ]
          },
          "metadata": {},
          "execution_count": 62
        }
      ]
    },
    {
      "cell_type": "code",
      "source": [
        "Chem.MolToSmiles(submol)"
      ],
      "metadata": {
        "colab": {
          "base_uri": "https://localhost:8080/",
          "height": 35
        },
        "id": "3xQvleM8VXzF",
        "outputId": "5e0a5b5f-77de-48d7-86c2-d4e5f9c85666"
      },
      "execution_count": null,
      "outputs": [
        {
          "output_type": "execute_result",
          "data": {
            "text/plain": [
              "'CN'"
            ],
            "application/vnd.google.colaboratory.intrinsic+json": {
              "type": "string"
            }
          },
          "metadata": {},
          "execution_count": 63
        }
      ]
    },
    {
      "cell_type": "code",
      "source": [
        "# This is more useful when the SMILES is rooted at the central atom:\n",
        "Chem.MolToSmiles(submol,rootedAtAtom=amap[5],canonical=False)"
      ],
      "metadata": {
        "colab": {
          "base_uri": "https://localhost:8080/",
          "height": 35
        },
        "id": "1AhwCSuwWRp6",
        "outputId": "998e4f19-7c65-40df-85e7-3a0ed780f8aa"
      },
      "execution_count": null,
      "outputs": [
        {
          "output_type": "execute_result",
          "data": {
            "text/plain": [
              "'NC'"
            ],
            "application/vnd.google.colaboratory.intrinsic+json": {
              "type": "string"
            }
          },
          "metadata": {},
          "execution_count": 64
        }
      ]
    },
    {
      "cell_type": "code",
      "source": [],
      "metadata": {
        "id": "MjSXlS1pWVJj"
      },
      "execution_count": null,
      "outputs": []
    }
  ]
}